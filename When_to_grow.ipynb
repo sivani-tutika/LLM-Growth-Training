{
  "nbformat": 4,
  "nbformat_minor": 0,
  "metadata": {
    "colab": {
      "provenance": [],
      "toc_visible": true,
      "authorship_tag": "ABX9TyM66EaPnSKB0w9QY1EiWLcP",
      "include_colab_link": true
    },
    "kernelspec": {
      "name": "python3",
      "display_name": "Python 3"
    },
    "language_info": {
      "name": "python"
    }
  },
  "cells": [
    {
      "cell_type": "markdown",
      "metadata": {
        "id": "view-in-github",
        "colab_type": "text"
      },
      "source": [
        "<a href=\"https://colab.research.google.com/github/sivani-tutika/LLM-Growth-Training/blob/main/When_to_grow.ipynb\" target=\"_parent\"><img src=\"https://colab.research.google.com/assets/colab-badge.svg\" alt=\"Open In Colab\"/></a>"
      ]
    },
    {
      "cell_type": "code",
      "execution_count": null,
      "metadata": {
        "id": "tcxAYMIequeJ"
      },
      "outputs": [],
      "source": []
    },
    {
      "cell_type": "markdown",
      "source": [
        "# Transformer Architecture"
      ],
      "metadata": {
        "id": "TtvXzO0ZuLL3"
      }
    },
    {
      "cell_type": "markdown",
      "source": [
        "# When to Grow Policy"
      ],
      "metadata": {
        "id": "yQA9otTCtHHh"
      }
    },
    {
      "cell_type": "code",
      "source": [
        "epochs = [3, 9, 18, 24, 30]"
      ],
      "metadata": {
        "id": "L-OhJJVRuFyI"
      },
      "execution_count": 1,
      "outputs": []
    },
    {
      "cell_type": "markdown",
      "source": [
        "## Periodic Growth"
      ],
      "metadata": {
        "id": "PjDDUFq-tV7g"
      }
    },
    {
      "cell_type": "code",
      "source": [],
      "metadata": {
        "id": "vF044bKjtMG3"
      },
      "execution_count": null,
      "outputs": []
    },
    {
      "cell_type": "markdown",
      "source": [
        "## Convergence Growth"
      ],
      "metadata": {
        "id": "yD0aNGY4tY2r"
      }
    },
    {
      "cell_type": "code",
      "source": [],
      "metadata": {
        "id": "vwcGJbxMtatK"
      },
      "execution_count": null,
      "outputs": []
    },
    {
      "cell_type": "markdown",
      "source": [
        "## LipGrow Method"
      ],
      "metadata": {
        "id": "UJX8nFC6tbQR"
      }
    },
    {
      "cell_type": "code",
      "source": [],
      "metadata": {
        "id": "5w5BuohftduI"
      },
      "execution_count": null,
      "outputs": []
    },
    {
      "cell_type": "markdown",
      "source": [
        "## ORL FRAWGrow Policy"
      ],
      "metadata": {
        "id": "zgzoag-OteHT"
      }
    },
    {
      "cell_type": "code",
      "source": [],
      "metadata": {
        "id": "XyqoQftDtg-f"
      },
      "execution_count": null,
      "outputs": []
    },
    {
      "cell_type": "markdown",
      "source": [
        "## Growth Order"
      ],
      "metadata": {
        "id": "d_B9Rn-6togO"
      }
    },
    {
      "cell_type": "markdown",
      "source": [
        "## Appending"
      ],
      "metadata": {
        "id": "_vLDDMXLtrJA"
      }
    },
    {
      "cell_type": "code",
      "source": [],
      "metadata": {
        "id": "beLZyxo5tqCd"
      },
      "execution_count": null,
      "outputs": []
    },
    {
      "cell_type": "markdown",
      "source": [
        "## Inserting in start"
      ],
      "metadata": {
        "id": "-3TBx3Bdtsvt"
      }
    },
    {
      "cell_type": "code",
      "source": [],
      "metadata": {
        "id": "ttUIqHbztuzV"
      },
      "execution_count": null,
      "outputs": []
    },
    {
      "cell_type": "markdown",
      "source": [
        "## RRS"
      ],
      "metadata": {
        "id": "RaeFuSNbtvei"
      }
    },
    {
      "cell_type": "code",
      "source": [],
      "metadata": {
        "id": "1FTGwejVtxE9"
      },
      "execution_count": null,
      "outputs": []
    },
    {
      "cell_type": "markdown",
      "source": [
        "# Hyperparameters"
      ],
      "metadata": {
        "id": "1c8bJcPOtzwU"
      }
    },
    {
      "cell_type": "markdown",
      "source": [
        "## α - learning rate"
      ],
      "metadata": {
        "id": "IWlURtsJt2k5"
      }
    },
    {
      "cell_type": "code",
      "source": [],
      "metadata": {
        "id": "eAwAP2_nt1X8"
      },
      "execution_count": null,
      "outputs": []
    }
  ]
}